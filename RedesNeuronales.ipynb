{
 "cells": [
  {
   "cell_type": "code",
   "execution_count": 1,
   "id": "792aa682",
   "metadata": {},
   "outputs": [],
   "source": [
    "import sklearn\n",
    "import numpy as np\n",
    "import pandas as pd"
   ]
  },
  {
   "cell_type": "markdown",
   "id": "3315e6c7",
   "metadata": {},
   "source": [
    "<h1 style=\"font-family: Arial; font-size:10;color:red;\">Se carga el archivo y se separa en entrenamiento y prueba</h1> "
   ]
  },
  {
   "cell_type": "code",
   "execution_count": 2,
   "id": "a65c299e",
   "metadata": {},
   "outputs": [
    {
     "name": "stdout",
     "output_type": "stream",
     "text": [
      "50286 40228 10058\n"
     ]
    }
   ],
   "source": [
    "from sklearn.model_selection import train_test_split\n",
    "dataALL=pd.read_csv('games.csv')  \n",
    "N=len(dataALL)\n",
    "cTrain=int(N*0.8) # 80% para entrenar y 20% para probar\n",
    "cTest=N-cTrain\n",
    "print(N,cTrain,cTest)\n",
    "train_data,test_data= sklearn.model_selection.train_test_split(dataALL, train_size=cTrain, test_size=cTest)"
   ]
  },
  {
   "cell_type": "code",
   "execution_count": 3,
   "id": "bb9b0f93",
   "metadata": {},
   "outputs": [
    {
     "data": {
      "text/plain": [
       "(40228, 18)"
      ]
     },
     "execution_count": 3,
     "metadata": {},
     "output_type": "execute_result"
    }
   ],
   "source": [
    "train_data.shape"
   ]
  },
  {
   "cell_type": "code",
   "execution_count": 4,
   "id": "0112d3ae",
   "metadata": {},
   "outputs": [
    {
     "data": {
      "text/html": [
       "<div>\n",
       "<style scoped>\n",
       "    .dataframe tbody tr th:only-of-type {\n",
       "        vertical-align: middle;\n",
       "    }\n",
       "\n",
       "    .dataframe tbody tr th {\n",
       "        vertical-align: top;\n",
       "    }\n",
       "\n",
       "    .dataframe thead th {\n",
       "        text-align: right;\n",
       "    }\n",
       "</style>\n",
       "<table border=\"1\" class=\"dataframe\">\n",
       "  <thead>\n",
       "    <tr style=\"text-align: right;\">\n",
       "      <th></th>\n",
       "      <th>gameDuration</th>\n",
       "      <th>firstBlood</th>\n",
       "      <th>firstTower</th>\n",
       "      <th>firstInhibitor</th>\n",
       "      <th>firstBaron</th>\n",
       "      <th>firstDragon</th>\n",
       "      <th>firstRiftHerald</th>\n",
       "      <th>t1_towerKills</th>\n",
       "      <th>t1_inhibitorKills</th>\n",
       "      <th>t1_baronKills</th>\n",
       "      <th>t1_dragonKills</th>\n",
       "      <th>t1_riftHeraldKills</th>\n",
       "      <th>t2_towerKills</th>\n",
       "      <th>t2_inhibitorKills</th>\n",
       "      <th>t2_baronKills</th>\n",
       "      <th>t2_dragonKills</th>\n",
       "      <th>t2_riftHeraldKills</th>\n",
       "      <th>winner</th>\n",
       "    </tr>\n",
       "  </thead>\n",
       "  <tbody>\n",
       "    <tr>\n",
       "      <th>10021</th>\n",
       "      <td>1977</td>\n",
       "      <td>1</td>\n",
       "      <td>1</td>\n",
       "      <td>1</td>\n",
       "      <td>2</td>\n",
       "      <td>1</td>\n",
       "      <td>0</td>\n",
       "      <td>11</td>\n",
       "      <td>4</td>\n",
       "      <td>1</td>\n",
       "      <td>2</td>\n",
       "      <td>0</td>\n",
       "      <td>0</td>\n",
       "      <td>0</td>\n",
       "      <td>1</td>\n",
       "      <td>0</td>\n",
       "      <td>0</td>\n",
       "      <td>1</td>\n",
       "    </tr>\n",
       "    <tr>\n",
       "      <th>26201</th>\n",
       "      <td>1595</td>\n",
       "      <td>2</td>\n",
       "      <td>2</td>\n",
       "      <td>2</td>\n",
       "      <td>2</td>\n",
       "      <td>2</td>\n",
       "      <td>0</td>\n",
       "      <td>1</td>\n",
       "      <td>0</td>\n",
       "      <td>0</td>\n",
       "      <td>0</td>\n",
       "      <td>0</td>\n",
       "      <td>7</td>\n",
       "      <td>2</td>\n",
       "      <td>1</td>\n",
       "      <td>3</td>\n",
       "      <td>0</td>\n",
       "      <td>2</td>\n",
       "    </tr>\n",
       "    <tr>\n",
       "      <th>26743</th>\n",
       "      <td>1565</td>\n",
       "      <td>2</td>\n",
       "      <td>1</td>\n",
       "      <td>1</td>\n",
       "      <td>1</td>\n",
       "      <td>1</td>\n",
       "      <td>0</td>\n",
       "      <td>10</td>\n",
       "      <td>2</td>\n",
       "      <td>1</td>\n",
       "      <td>2</td>\n",
       "      <td>0</td>\n",
       "      <td>0</td>\n",
       "      <td>0</td>\n",
       "      <td>0</td>\n",
       "      <td>0</td>\n",
       "      <td>0</td>\n",
       "      <td>1</td>\n",
       "    </tr>\n",
       "    <tr>\n",
       "      <th>19970</th>\n",
       "      <td>1199</td>\n",
       "      <td>2</td>\n",
       "      <td>2</td>\n",
       "      <td>2</td>\n",
       "      <td>0</td>\n",
       "      <td>2</td>\n",
       "      <td>2</td>\n",
       "      <td>1</td>\n",
       "      <td>0</td>\n",
       "      <td>0</td>\n",
       "      <td>0</td>\n",
       "      <td>0</td>\n",
       "      <td>10</td>\n",
       "      <td>1</td>\n",
       "      <td>0</td>\n",
       "      <td>1</td>\n",
       "      <td>1</td>\n",
       "      <td>2</td>\n",
       "    </tr>\n",
       "    <tr>\n",
       "      <th>47201</th>\n",
       "      <td>1590</td>\n",
       "      <td>1</td>\n",
       "      <td>1</td>\n",
       "      <td>2</td>\n",
       "      <td>0</td>\n",
       "      <td>2</td>\n",
       "      <td>1</td>\n",
       "      <td>3</td>\n",
       "      <td>0</td>\n",
       "      <td>0</td>\n",
       "      <td>0</td>\n",
       "      <td>1</td>\n",
       "      <td>9</td>\n",
       "      <td>1</td>\n",
       "      <td>0</td>\n",
       "      <td>3</td>\n",
       "      <td>0</td>\n",
       "      <td>2</td>\n",
       "    </tr>\n",
       "  </tbody>\n",
       "</table>\n",
       "</div>"
      ],
      "text/plain": [
       "       gameDuration  firstBlood  firstTower  firstInhibitor  firstBaron  \\\n",
       "10021          1977           1           1               1           2   \n",
       "26201          1595           2           2               2           2   \n",
       "26743          1565           2           1               1           1   \n",
       "19970          1199           2           2               2           0   \n",
       "47201          1590           1           1               2           0   \n",
       "\n",
       "       firstDragon  firstRiftHerald  t1_towerKills  t1_inhibitorKills  \\\n",
       "10021            1                0             11                  4   \n",
       "26201            2                0              1                  0   \n",
       "26743            1                0             10                  2   \n",
       "19970            2                2              1                  0   \n",
       "47201            2                1              3                  0   \n",
       "\n",
       "       t1_baronKills  t1_dragonKills  t1_riftHeraldKills  t2_towerKills  \\\n",
       "10021              1               2                   0              0   \n",
       "26201              0               0                   0              7   \n",
       "26743              1               2                   0              0   \n",
       "19970              0               0                   0             10   \n",
       "47201              0               0                   1              9   \n",
       "\n",
       "       t2_inhibitorKills  t2_baronKills  t2_dragonKills  t2_riftHeraldKills  \\\n",
       "10021                  0              1               0                   0   \n",
       "26201                  2              1               3                   0   \n",
       "26743                  0              0               0                   0   \n",
       "19970                  1              0               1                   1   \n",
       "47201                  1              0               3                   0   \n",
       "\n",
       "       winner  \n",
       "10021       1  \n",
       "26201       2  \n",
       "26743       1  \n",
       "19970       2  \n",
       "47201       2  "
      ]
     },
     "execution_count": 4,
     "metadata": {},
     "output_type": "execute_result"
    }
   ],
   "source": [
    "train_data.head()"
   ]
  },
  {
   "cell_type": "code",
   "execution_count": 5,
   "id": "a91782a9",
   "metadata": {},
   "outputs": [
    {
     "name": "stdout",
     "output_type": "stream",
     "text": [
      "<class 'pandas.core.frame.DataFrame'>\n",
      "Int64Index: 40228 entries, 10021 to 12123\n",
      "Data columns (total 18 columns):\n",
      " #   Column              Non-Null Count  Dtype\n",
      "---  ------              --------------  -----\n",
      " 0   gameDuration        40228 non-null  int64\n",
      " 1   firstBlood          40228 non-null  int64\n",
      " 2   firstTower          40228 non-null  int64\n",
      " 3   firstInhibitor      40228 non-null  int64\n",
      " 4   firstBaron          40228 non-null  int64\n",
      " 5   firstDragon         40228 non-null  int64\n",
      " 6   firstRiftHerald     40228 non-null  int64\n",
      " 7   t1_towerKills       40228 non-null  int64\n",
      " 8   t1_inhibitorKills   40228 non-null  int64\n",
      " 9   t1_baronKills       40228 non-null  int64\n",
      " 10  t1_dragonKills      40228 non-null  int64\n",
      " 11  t1_riftHeraldKills  40228 non-null  int64\n",
      " 12  t2_towerKills       40228 non-null  int64\n",
      " 13  t2_inhibitorKills   40228 non-null  int64\n",
      " 14  t2_baronKills       40228 non-null  int64\n",
      " 15  t2_dragonKills      40228 non-null  int64\n",
      " 16  t2_riftHeraldKills  40228 non-null  int64\n",
      " 17  winner              40228 non-null  int64\n",
      "dtypes: int64(18)\n",
      "memory usage: 5.8 MB\n"
     ]
    }
   ],
   "source": [
    "train_data.info()"
   ]
  },
  {
   "cell_type": "code",
   "execution_count": 8,
   "id": "8267f702",
   "metadata": {},
   "outputs": [
    {
     "data": {
      "text/html": [
       "<div>\n",
       "<style scoped>\n",
       "    .dataframe tbody tr th:only-of-type {\n",
       "        vertical-align: middle;\n",
       "    }\n",
       "\n",
       "    .dataframe tbody tr th {\n",
       "        vertical-align: top;\n",
       "    }\n",
       "\n",
       "    .dataframe thead th {\n",
       "        text-align: right;\n",
       "    }\n",
       "</style>\n",
       "<table border=\"1\" class=\"dataframe\">\n",
       "  <thead>\n",
       "    <tr style=\"text-align: right;\">\n",
       "      <th></th>\n",
       "      <th>gameDuration</th>\n",
       "      <th>firstBlood</th>\n",
       "      <th>firstTower</th>\n",
       "      <th>firstInhibitor</th>\n",
       "    </tr>\n",
       "  </thead>\n",
       "  <tbody>\n",
       "    <tr>\n",
       "      <th>count</th>\n",
       "      <td>40228.000000</td>\n",
       "      <td>40228.000000</td>\n",
       "      <td>40228.000000</td>\n",
       "      <td>40228.000000</td>\n",
       "    </tr>\n",
       "    <tr>\n",
       "      <th>mean</th>\n",
       "      <td>1871.062593</td>\n",
       "      <td>1.487223</td>\n",
       "      <td>1.483469</td>\n",
       "      <td>1.339937</td>\n",
       "    </tr>\n",
       "    <tr>\n",
       "      <th>std</th>\n",
       "      <td>451.119442</td>\n",
       "      <td>0.499843</td>\n",
       "      <td>0.500578</td>\n",
       "      <td>0.653746</td>\n",
       "    </tr>\n",
       "    <tr>\n",
       "      <th>min</th>\n",
       "      <td>610.000000</td>\n",
       "      <td>1.000000</td>\n",
       "      <td>0.000000</td>\n",
       "      <td>0.000000</td>\n",
       "    </tr>\n",
       "    <tr>\n",
       "      <th>25%</th>\n",
       "      <td>1554.000000</td>\n",
       "      <td>1.000000</td>\n",
       "      <td>1.000000</td>\n",
       "      <td>1.000000</td>\n",
       "    </tr>\n",
       "    <tr>\n",
       "      <th>50%</th>\n",
       "      <td>1845.000000</td>\n",
       "      <td>1.000000</td>\n",
       "      <td>1.000000</td>\n",
       "      <td>1.000000</td>\n",
       "    </tr>\n",
       "    <tr>\n",
       "      <th>75%</th>\n",
       "      <td>2156.000000</td>\n",
       "      <td>2.000000</td>\n",
       "      <td>2.000000</td>\n",
       "      <td>2.000000</td>\n",
       "    </tr>\n",
       "    <tr>\n",
       "      <th>max</th>\n",
       "      <td>4728.000000</td>\n",
       "      <td>2.000000</td>\n",
       "      <td>2.000000</td>\n",
       "      <td>2.000000</td>\n",
       "    </tr>\n",
       "  </tbody>\n",
       "</table>\n",
       "</div>"
      ],
      "text/plain": [
       "       gameDuration    firstBlood    firstTower  firstInhibitor\n",
       "count  40228.000000  40228.000000  40228.000000    40228.000000\n",
       "mean    1871.062593      1.487223      1.483469        1.339937\n",
       "std      451.119442      0.499843      0.500578        0.653746\n",
       "min      610.000000      1.000000      0.000000        0.000000\n",
       "25%     1554.000000      1.000000      1.000000        1.000000\n",
       "50%     1845.000000      1.000000      1.000000        1.000000\n",
       "75%     2156.000000      2.000000      2.000000        2.000000\n",
       "max     4728.000000      2.000000      2.000000        2.000000"
      ]
     },
     "execution_count": 8,
     "metadata": {},
     "output_type": "execute_result"
    }
   ],
   "source": [
    "train_data[[\"gameDuration\", \"firstBlood\",\"firstTower\",\"firstInhibitor\"]].describe()"
   ]
  },
  {
   "cell_type": "markdown",
   "id": "f9d5d5da",
   "metadata": {},
   "source": [
    "<h1 style=\"font-family: Arial; font-size:10;color:red;\">Pipeline para los atributos numéricos</h1> "
   ]
  },
  {
   "cell_type": "code",
   "execution_count": 12,
   "id": "18233501",
   "metadata": {},
   "outputs": [],
   "source": [
    "from sklearn.pipeline import Pipeline\n",
    "from sklearn.impute import SimpleImputer\n",
    "from sklearn.preprocessing import StandardScaler\n",
    "from sklearn.preprocessing import MinMaxScaler\n",
    "\n",
    "# 17 atributos numéricos\n",
    "num_attribs = [\"gameDuration\", \"firstBlood\", \"firstInhibitor\", \"firstTower\",\"firstDragon\",\"firstBaron\",\"firstRiftHerald\",\"t1_towerKills\",\"t1_inhibitorKills\",\"t1_baronKills\",\"t1_dragonKills\",\"t1_riftHeraldKills\",\"t2_towerKills\",\"t2_inhibitorKills\",\"t2_baronKills\",\"t2_dragonKills\",\"t2_riftHeraldKills\"]\n",
    "\n",
    "num_pipeline = Pipeline([\n",
    "        (\"imputer\", SimpleImputer(strategy=\"median\")),\n",
    "        (\"scaler\", StandardScaler()) \n",
    "    \n",
    "    ])"
   ]
  },
  {
   "cell_type": "markdown",
   "id": "a9280b59",
   "metadata": {},
   "source": [
    "<h1 style=\"font-family: Arial; font-size:10;color:red;\">Pipeline completo</h1> "
   ]
  },
  {
   "cell_type": "code",
   "execution_count": 13,
   "id": "7eba5c53",
   "metadata": {},
   "outputs": [],
   "source": [
    "from sklearn.compose import ColumnTransformer\n",
    "\n",
    "full_pipeline = ColumnTransformer([\n",
    "    (\"num\", num_pipeline, num_attribs),\n",
    "])"
   ]
  },
  {
   "cell_type": "markdown",
   "id": "7f5bc288",
   "metadata": {},
   "source": [
    "<h1 style=\"font-family: Arial; font-size:10;color:red;\">Extraemos las etiquetas de clase</h1> "
   ]
  },
  {
   "cell_type": "code",
   "execution_count": 14,
   "id": "068cb445",
   "metadata": {},
   "outputs": [],
   "source": [
    "X_train = full_pipeline.fit_transform(train_data)"
   ]
  },
  {
   "cell_type": "code",
   "execution_count": 15,
   "id": "f9f4e364",
   "metadata": {},
   "outputs": [
    {
     "data": {
      "text/plain": [
       "(40228, 17)"
      ]
     },
     "execution_count": 15,
     "metadata": {},
     "output_type": "execute_result"
    }
   ],
   "source": [
    "X_train.shape"
   ]
  },
  {
   "cell_type": "code",
   "execution_count": 16,
   "id": "c08bed16",
   "metadata": {},
   "outputs": [
    {
     "data": {
      "text/plain": [
       "array([ 0.2348352 , -0.97476398, -0.5199905 , -0.96583433, -0.90018074,\n",
       "        1.25780095, -0.90844956,  1.38001177,  2.31767183,  1.04241881,\n",
       "        0.48414712, -0.58806731, -1.49032611, -0.80003301,  0.93420777,\n",
       "       -1.17987928, -0.5713797 ])"
      ]
     },
     "execution_count": 16,
     "metadata": {},
     "output_type": "execute_result"
    }
   ],
   "source": [
    "X_train[0,:]"
   ]
  },
  {
   "cell_type": "code",
   "execution_count": 17,
   "id": "081d2521",
   "metadata": {},
   "outputs": [
    {
     "data": {
      "text/plain": [
       "10021    1\n",
       "26201    2\n",
       "26743    1\n",
       "19970    2\n",
       "47201    2\n",
       "        ..\n",
       "13424    2\n",
       "29810    2\n",
       "11397    1\n",
       "8859     1\n",
       "12123    2\n",
       "Name: winner, Length: 40228, dtype: int64"
      ]
     },
     "execution_count": 17,
     "metadata": {},
     "output_type": "execute_result"
    }
   ],
   "source": [
    "y_train = train_data[\"winner\"]\n",
    "y_train"
   ]
  },
  {
   "cell_type": "markdown",
   "id": "dada89f4",
   "metadata": {},
   "source": [
    "<h1 style=\"font-family: Arial; font-size:10;color:red;\">Construcción de la red neuronal</h1> \n"
   ]
  },
  {
   "cell_type": "code",
   "execution_count": 30,
   "id": "9f4b915b",
   "metadata": {},
   "outputs": [
    {
     "name": "stderr",
     "output_type": "stream",
     "text": [
      "/home/felipe/anaconda3/lib/python3.9/site-packages/sklearn/neural_network/_multilayer_perceptron.py:549: ConvergenceWarning: lbfgs failed to converge (status=1):\n",
      "STOP: TOTAL NO. of ITERATIONS REACHED LIMIT.\n",
      "\n",
      "Increase the number of iterations (max_iter) or scale the data as shown in:\n",
      "    https://scikit-learn.org/stable/modules/preprocessing.html\n",
      "  self.n_iter_ = _check_optimize_result(\"lbfgs\", opt_res, self.max_iter)\n"
     ]
    },
    {
     "name": "stdout",
     "output_type": "stream",
     "text": [
      "[0.97750435 0.97775292 0.97899577 0.98085768 0.98160348]\n"
     ]
    },
    {
     "data": {
      "text/plain": [
       "0.9793428401977629"
      ]
     },
     "execution_count": 30,
     "metadata": {},
     "output_type": "execute_result"
    }
   ],
   "source": [
    "from sklearn.neural_network import MLPClassifier\n",
    "from sklearn.model_selection import cross_val_score\n",
    "\n",
    "modelo1 = MLPClassifier(activation='logistic',solver='lbfgs',max_iter=500, alpha=1e-5,hidden_layer_sizes=(10,8), random_state=123)\n",
    "modelo1.fit(X_train, y_train)\n",
    "scores1 = cross_val_score(modelo1, X_train, y_train, cv=5, scoring='accuracy')\n",
    "print(scores1)\n",
    "scores1.mean()"
   ]
  },
  {
   "cell_type": "code",
   "execution_count": 31,
   "id": "f06077d4",
   "metadata": {},
   "outputs": [
    {
     "name": "stderr",
     "output_type": "stream",
     "text": [
      "/home/felipe/anaconda3/lib/python3.9/site-packages/sklearn/neural_network/_multilayer_perceptron.py:549: ConvergenceWarning: lbfgs failed to converge (status=1):\n",
      "STOP: TOTAL NO. of ITERATIONS REACHED LIMIT.\n",
      "\n",
      "Increase the number of iterations (max_iter) or scale the data as shown in:\n",
      "    https://scikit-learn.org/stable/modules/preprocessing.html\n",
      "  self.n_iter_ = _check_optimize_result(\"lbfgs\", opt_res, self.max_iter)\n",
      "/home/felipe/anaconda3/lib/python3.9/site-packages/sklearn/neural_network/_multilayer_perceptron.py:549: ConvergenceWarning: lbfgs failed to converge (status=1):\n",
      "STOP: TOTAL NO. of ITERATIONS REACHED LIMIT.\n",
      "\n",
      "Increase the number of iterations (max_iter) or scale the data as shown in:\n",
      "    https://scikit-learn.org/stable/modules/preprocessing.html\n",
      "  self.n_iter_ = _check_optimize_result(\"lbfgs\", opt_res, self.max_iter)\n",
      "/home/felipe/anaconda3/lib/python3.9/site-packages/sklearn/neural_network/_multilayer_perceptron.py:549: ConvergenceWarning: lbfgs failed to converge (status=1):\n",
      "STOP: TOTAL NO. of ITERATIONS REACHED LIMIT.\n",
      "\n",
      "Increase the number of iterations (max_iter) or scale the data as shown in:\n",
      "    https://scikit-learn.org/stable/modules/preprocessing.html\n",
      "  self.n_iter_ = _check_optimize_result(\"lbfgs\", opt_res, self.max_iter)\n",
      "/home/felipe/anaconda3/lib/python3.9/site-packages/sklearn/neural_network/_multilayer_perceptron.py:549: ConvergenceWarning: lbfgs failed to converge (status=1):\n",
      "STOP: TOTAL NO. of ITERATIONS REACHED LIMIT.\n",
      "\n",
      "Increase the number of iterations (max_iter) or scale the data as shown in:\n",
      "    https://scikit-learn.org/stable/modules/preprocessing.html\n",
      "  self.n_iter_ = _check_optimize_result(\"lbfgs\", opt_res, self.max_iter)\n",
      "/home/felipe/anaconda3/lib/python3.9/site-packages/sklearn/neural_network/_multilayer_perceptron.py:549: ConvergenceWarning: lbfgs failed to converge (status=1):\n",
      "STOP: TOTAL NO. of ITERATIONS REACHED LIMIT.\n",
      "\n",
      "Increase the number of iterations (max_iter) or scale the data as shown in:\n",
      "    https://scikit-learn.org/stable/modules/preprocessing.html\n",
      "  self.n_iter_ = _check_optimize_result(\"lbfgs\", opt_res, self.max_iter)\n"
     ]
    },
    {
     "name": "stdout",
     "output_type": "stream",
     "text": [
      "[0.97849863 0.9787472  0.97999006 0.97961467 0.98085768]\n"
     ]
    },
    {
     "name": "stderr",
     "output_type": "stream",
     "text": [
      "/home/felipe/anaconda3/lib/python3.9/site-packages/sklearn/neural_network/_multilayer_perceptron.py:549: ConvergenceWarning: lbfgs failed to converge (status=1):\n",
      "STOP: TOTAL NO. of ITERATIONS REACHED LIMIT.\n",
      "\n",
      "Increase the number of iterations (max_iter) or scale the data as shown in:\n",
      "    https://scikit-learn.org/stable/modules/preprocessing.html\n",
      "  self.n_iter_ = _check_optimize_result(\"lbfgs\", opt_res, self.max_iter)\n"
     ]
    },
    {
     "data": {
      "text/plain": [
       "0.9795416473363925"
      ]
     },
     "execution_count": 31,
     "metadata": {},
     "output_type": "execute_result"
    }
   ],
   "source": [
    "from sklearn.neural_network import MLPClassifier\n",
    "from sklearn.model_selection import cross_val_score\n",
    "\n",
    "modelo2 = MLPClassifier(activation='relu',solver='lbfgs', max_iter=500, alpha=1e-5,hidden_layer_sizes=(7,6,5), random_state=123)\n",
    "modelo2.fit(X_train, y_train)\n",
    "scores2 = cross_val_score(modelo2, X_train, y_train, cv=5, scoring='accuracy')\n",
    "print(scores2)\n",
    "scores2.mean()"
   ]
  },
  {
   "cell_type": "code",
   "execution_count": 24,
   "id": "3418cff2",
   "metadata": {},
   "outputs": [
    {
     "name": "stdout",
     "output_type": "stream",
     "text": [
      "[0.97253294 0.9711658  0.97203579 0.97228092 0.9697949 ]\n"
     ]
    },
    {
     "data": {
      "text/plain": [
       "0.9715620699931268"
      ]
     },
     "execution_count": 24,
     "metadata": {},
     "output_type": "execute_result"
    }
   ],
   "source": [
    "from sklearn.neural_network import MLPClassifier\n",
    "from sklearn.model_selection import cross_val_score\n",
    "\n",
    "modelo3 = MLPClassifier(activation='identity',solver='adam', alpha=1e-5,hidden_layer_sizes=(10,10,10), random_state=123)\n",
    "modelo3.fit(X_train, y_train)\n",
    "scores3 = cross_val_score(modelo3, X_train, y_train, cv=5, scoring='accuracy')\n",
    "print(scores3)\n",
    "scores3.mean()"
   ]
  },
  {
   "cell_type": "code",
   "execution_count": 28,
   "id": "4151c86c",
   "metadata": {},
   "outputs": [
    {
     "name": "stdout",
     "output_type": "stream",
     "text": [
      "[0.97986577 0.97912006 0.98110863 0.97924177 0.98284649]\n"
     ]
    },
    {
     "data": {
      "text/plain": [
       "0.9804365420893257"
      ]
     },
     "execution_count": 28,
     "metadata": {},
     "output_type": "execute_result"
    }
   ],
   "source": [
    "from sklearn.neural_network import MLPClassifier\n",
    "from sklearn.model_selection import cross_val_score\n",
    "\n",
    "modelo4 = MLPClassifier(activation='tanh',solver='adam', alpha=1e-5,hidden_layer_sizes=(18), random_state=123)\n",
    "modelo4.fit(X_train, y_train)\n",
    "scores4 = cross_val_score(modelo4, X_train, y_train, cv=5, scoring='accuracy')\n",
    "print(scores4)\n",
    "scores4.mean()"
   ]
  },
  {
   "cell_type": "code",
   "execution_count": 27,
   "id": "2fcf54bd",
   "metadata": {},
   "outputs": [
    {
     "name": "stdout",
     "output_type": "stream",
     "text": [
      "[0.97663435 0.97651007 0.9762615  0.97911746 0.97862026]\n"
     ]
    },
    {
     "data": {
      "text/plain": [
       "0.9774287282556624"
      ]
     },
     "execution_count": 27,
     "metadata": {},
     "output_type": "execute_result"
    }
   ],
   "source": [
    "from sklearn.neural_network import MLPClassifier\n",
    "from sklearn.model_selection import cross_val_score\n",
    "\n",
    "modelo5 = MLPClassifier(activation='relu',solver='sgd', alpha=1e-5,hidden_layer_sizes=(9,9), random_state=123)\n",
    "modelo5.fit(X_train, y_train)\n",
    "scores5 = cross_val_score(modelo5, X_train, y_train, cv=5, scoring='accuracy')\n",
    "print(scores5)\n",
    "scores5.mean()"
   ]
  },
  {
   "cell_type": "markdown",
   "id": "3979097c",
   "metadata": {},
   "source": [
    "<h1 style=\"font-family: Arial; font-size:10;color:red;\">Analicemos el desempeño en el conjunto de prueba</h1> "
   ]
  },
  {
   "cell_type": "code",
   "execution_count": 32,
   "id": "244198a4",
   "metadata": {},
   "outputs": [
    {
     "data": {
      "text/plain": [
       "array([[-1.41219919,  1.02588936, -2.04965615, ..., -0.6845599 ,\n",
       "         0.46089035,  1.75014969],\n",
       "       [-0.55875607, -0.97476398,  1.00967515, ...,  0.93420777,\n",
       "        -0.35949447, -0.5713797 ],\n",
       "       [ 0.70921657,  1.02588936, -0.5199905 , ..., -0.6845599 ,\n",
       "        -0.35949447, -0.5713797 ],\n",
       "       ...,\n",
       "       [ 0.51192712, -0.97476398, -0.5199905 , ...,  2.55297544,\n",
       "         2.10165997, -0.5713797 ],\n",
       "       [-0.7737794 ,  1.02588936, -0.5199905 , ..., -0.6845599 ,\n",
       "        -0.35949447, -0.5713797 ],\n",
       "       [ 0.84443743, -0.97476398, -0.5199905 , ..., -0.6845599 ,\n",
       "         1.28127516, -0.5713797 ]])"
      ]
     },
     "execution_count": 32,
     "metadata": {},
     "output_type": "execute_result"
    }
   ],
   "source": [
    "X_test = full_pipeline.transform(test_data)\n",
    "X_test"
   ]
  },
  {
   "cell_type": "code",
   "execution_count": 33,
   "id": "60b1cdcd",
   "metadata": {},
   "outputs": [
    {
     "data": {
      "text/plain": [
       "array([2, 2, 1, ..., 1, 1, 1])"
      ]
     },
     "execution_count": 33,
     "metadata": {},
     "output_type": "execute_result"
    }
   ],
   "source": [
    "y_pred1 = modelo1.predict(X_test)\n",
    "y_pred1"
   ]
  },
  {
   "cell_type": "code",
   "execution_count": 34,
   "id": "feb30d8c",
   "metadata": {},
   "outputs": [
    {
     "data": {
      "text/plain": [
       "array([2, 2, 1, ..., 2, 1, 1])"
      ]
     },
     "execution_count": 34,
     "metadata": {},
     "output_type": "execute_result"
    }
   ],
   "source": [
    "y_pred2 = modelo2.predict(X_test)\n",
    "y_pred2"
   ]
  },
  {
   "cell_type": "code",
   "execution_count": 35,
   "id": "737a9851",
   "metadata": {},
   "outputs": [
    {
     "data": {
      "text/plain": [
       "array([2, 2, 1, ..., 1, 1, 1])"
      ]
     },
     "execution_count": 35,
     "metadata": {},
     "output_type": "execute_result"
    }
   ],
   "source": [
    "y_pred3 = modelo3.predict(X_test)\n",
    "y_pred3"
   ]
  },
  {
   "cell_type": "code",
   "execution_count": 36,
   "id": "cbc3a7a5",
   "metadata": {},
   "outputs": [
    {
     "data": {
      "text/plain": [
       "array([2, 2, 1, ..., 1, 1, 1])"
      ]
     },
     "execution_count": 36,
     "metadata": {},
     "output_type": "execute_result"
    }
   ],
   "source": [
    "y_pred4 = modelo4.predict(X_test)\n",
    "y_pred4"
   ]
  },
  {
   "cell_type": "code",
   "execution_count": 37,
   "id": "9415be84",
   "metadata": {},
   "outputs": [
    {
     "data": {
      "text/plain": [
       "array([2, 2, 1, ..., 1, 1, 1])"
      ]
     },
     "execution_count": 37,
     "metadata": {},
     "output_type": "execute_result"
    }
   ],
   "source": [
    "y_pred5 = modelo5.predict(X_test)\n",
    "y_pred5"
   ]
  },
  {
   "cell_type": "code",
   "execution_count": 38,
   "id": "7faaa990",
   "metadata": {},
   "outputs": [
    {
     "data": {
      "text/plain": [
       "36062    2\n",
       "41334    2\n",
       "29984    1\n",
       "43409    2\n",
       "44812    1\n",
       "        ..\n",
       "28863    1\n",
       "31941    1\n",
       "41138    1\n",
       "9636     1\n",
       "15531    1\n",
       "Name: winner, Length: 10058, dtype: int64"
      ]
     },
     "execution_count": 38,
     "metadata": {},
     "output_type": "execute_result"
    }
   ],
   "source": [
    "y_test = test_data[\"winner\"]\n",
    "y_test"
   ]
  },
  {
   "cell_type": "code",
   "execution_count": 41,
   "id": "25e35e59",
   "metadata": {},
   "outputs": [
    {
     "name": "stdout",
     "output_type": "stream",
     "text": [
      "0.980612447802744\n"
     ]
    }
   ],
   "source": [
    "from sklearn.metrics import accuracy_score\n",
    "accuracy1 = accuracy_score(y_test, y_pred1)\n",
    "print(accuracy1)"
   ]
  },
  {
   "cell_type": "code",
   "execution_count": 42,
   "id": "680b75ec",
   "metadata": {},
   "outputs": [
    {
     "name": "stdout",
     "output_type": "stream",
     "text": [
      "0.9802147544243388\n"
     ]
    }
   ],
   "source": [
    "from sklearn.metrics import accuracy_score\n",
    "accuracy2 = accuracy_score(y_test, y_pred2)\n",
    "print(accuracy2)"
   ]
  },
  {
   "cell_type": "code",
   "execution_count": 43,
   "id": "d94382e5",
   "metadata": {},
   "outputs": [
    {
     "name": "stdout",
     "output_type": "stream",
     "text": [
      "0.9722608868562338\n"
     ]
    }
   ],
   "source": [
    "from sklearn.metrics import accuracy_score\n",
    "accuracy3 = accuracy_score(y_test, y_pred3)\n",
    "print(accuracy3)"
   ]
  },
  {
   "cell_type": "code",
   "execution_count": 44,
   "id": "beafc53d",
   "metadata": {},
   "outputs": [
    {
     "name": "stdout",
     "output_type": "stream",
     "text": [
      "0.9811095645257506\n"
     ]
    }
   ],
   "source": [
    "from sklearn.metrics import accuracy_score\n",
    "accuracy4 = accuracy_score(y_test, y_pred4)\n",
    "print(accuracy4)"
   ]
  },
  {
   "cell_type": "code",
   "execution_count": 45,
   "id": "38b9836e",
   "metadata": {},
   "outputs": [
    {
     "name": "stdout",
     "output_type": "stream",
     "text": [
      "0.9768343607078942\n"
     ]
    }
   ],
   "source": [
    "from sklearn.metrics import accuracy_score\n",
    "accuracy5 = accuracy_score(y_test, y_pred5)\n",
    "print(accuracy5)"
   ]
  },
  {
   "cell_type": "markdown",
   "id": "01779a70",
   "metadata": {},
   "source": [
    "<h1 style=\"font-family: Arial; font-size:10;color:red;\" align=\"center\">Tabla 1. Accuracy</h1> "
   ]
  },
  {
   "cell_type": "markdown",
   "id": "efcde464",
   "metadata": {},
   "source": [
    "| Modelo| Accuracy |\n",
    "| --- | --- |\n",
    "| 1 |0.9806 |\n",
    "| 2 |0.9802 |\n",
    "| 3 |0.9722 |\n",
    "| 4 |0.9811 |\n",
    "| 5 |0.9768 |"
   ]
  },
  {
   "cell_type": "markdown",
   "id": "e4687d61",
   "metadata": {},
   "source": [
    "<p style=\"font-family: Arial; font-size:10;color:black;\">Los hiperparámetros que por el\n",
    "momento permiten obtener la red con mayor accuracy son: función de \n",
    "activación ='tanh',solver='adam' y hidden_layer_sizes=(18).</p> "
   ]
  },
  {
   "cell_type": "markdown",
   "id": "3d4b418b",
   "metadata": {},
   "source": [
    "<h1 style=\"font-family: Arial; font-size:10;color:red;\">Matrices de Confusión</h1> "
   ]
  },
  {
   "cell_type": "markdown",
   "id": "9d1f1418",
   "metadata": {},
   "source": [
    "<h2 style=\"font-family: Arial; font-size:10;color:black;\">Modelo 1</h2> "
   ]
  },
  {
   "cell_type": "code",
   "execution_count": 48,
   "id": "8884c9a6",
   "metadata": {},
   "outputs": [
    {
     "data": {
      "text/plain": [
       "array([[5019,   99],\n",
       "       [  96, 4844]])"
      ]
     },
     "execution_count": 48,
     "metadata": {},
     "output_type": "execute_result"
    }
   ],
   "source": [
    "from sklearn.metrics import confusion_matrix\n",
    "\n",
    "confusion_matrix1 = confusion_matrix(y_test, y_pred1)\n",
    "confusion_matrix1"
   ]
  },
  {
   "cell_type": "code",
   "execution_count": 54,
   "id": "70138d2f",
   "metadata": {},
   "outputs": [
    {
     "data": {
      "image/png": "[encoded data removed]",
      "text/plain": [
       "<Figure size 432x288 with 2 Axes>"
      ]
     },
     "metadata": {
      "needs_background": "light"
     },
     "output_type": "display_data"
    }
   ],
   "source": [
    "%matplotlib inline\n",
    "import matplotlib.pyplot as plt\n",
    "import seaborn as sns\n",
    "\n",
    "ax = plt.subplot()\n",
    "sns.heatmap(confusion_matrix1, annot=True, ax = ax, fmt='d')\n",
    "\n",
    "ax.set_xlabel('Predicted labels')\n",
    "ax.set_ylabel('Actual labels') \n",
    "ax.set_title('Confusion Matrix1 - LOL Winner') \n",
    "ax.xaxis.set_ticklabels(['Negative=0', 'Positive=1'])\n",
    "ax.yaxis.set_ticklabels(['Negative=0', 'Positive=1']);\n",
    "plt.show();"
   ]
  },
  {
   "cell_type": "markdown",
   "id": "2c62a68d",
   "metadata": {},
   "source": [
    "<h2 style=\"font-family: Arial; font-size:10;color:black;\">Modelo 2</h2> "
   ]
  },
  {
   "cell_type": "code",
   "execution_count": 53,
   "id": "7f97a45b",
   "metadata": {},
   "outputs": [
    {
     "data": {
      "text/plain": [
       "array([[5006,  112],\n",
       "       [  87, 4853]])"
      ]
     },
     "execution_count": 53,
     "metadata": {},
     "output_type": "execute_result"
    }
   ],
   "source": [
    "from sklearn.metrics import confusion_matrix\n",
    "\n",
    "confusion_matrix2 = confusion_matrix(y_test, y_pred2)\n",
    "confusion_matrix2"
   ]
  },
  {
   "cell_type": "code",
   "execution_count": 55,
   "id": "74cf52fb",
   "metadata": {},
   "outputs": [
    {
     "data": {
      "image/png": "[encoded data removed]",
      "text/plain": [
       "<Figure size 432x288 with 2 Axes>"
      ]
     },
     "metadata": {
      "needs_background": "light"
     },
     "output_type": "display_data"
    }
   ],
   "source": [
    "%matplotlib inline\n",
    "import matplotlib.pyplot as plt\n",
    "import seaborn as sns\n",
    "\n",
    "ax = plt.subplot()\n",
    "sns.heatmap(confusion_matrix2, annot=True, ax = ax, fmt='d')\n",
    "\n",
    "ax.set_xlabel('Predicted labels')\n",
    "ax.set_ylabel('Actual labels') \n",
    "ax.set_title('Confusion Matrix2 - LOL Winner') \n",
    "ax.xaxis.set_ticklabels(['Negative=0', 'Positive=1'])\n",
    "ax.yaxis.set_ticklabels(['Negative=0', 'Positive=1']);\n",
    "plt.show();"
   ]
  },
  {
   "cell_type": "markdown",
   "id": "34cd0f7f",
   "metadata": {},
   "source": [
    "<h2 style=\"font-family: Arial; font-size:10;color:black;\">Modelo 3</h2> "
   ]
  },
  {
   "cell_type": "code",
   "execution_count": 56,
   "id": "f241512b",
   "metadata": {},
   "outputs": [
    {
     "data": {
      "text/plain": [
       "array([[4966,  152],\n",
       "       [ 127, 4813]])"
      ]
     },
     "execution_count": 56,
     "metadata": {},
     "output_type": "execute_result"
    }
   ],
   "source": [
    "from sklearn.metrics import confusion_matrix\n",
    "\n",
    "confusion_matrix3 = confusion_matrix(y_test, y_pred3)\n",
    "confusion_matrix3"
   ]
  },
  {
   "cell_type": "code",
   "execution_count": 57,
   "id": "78081319",
   "metadata": {},
   "outputs": [
    {
     "data": {
      "image/png": "[encoded data removed]",
      "text/plain": [
       "<Figure size 432x288 with 2 Axes>"
      ]
     },
     "metadata": {
      "needs_background": "light"
     },
     "output_type": "display_data"
    }
   ],
   "source": [
    "%matplotlib inline\n",
    "import matplotlib.pyplot as plt\n",
    "import seaborn as sns\n",
    "\n",
    "ax = plt.subplot()\n",
    "sns.heatmap(confusion_matrix3, annot=True, ax = ax, fmt='d')\n",
    "\n",
    "ax.set_xlabel('Predicted labels')\n",
    "ax.set_ylabel('Actual labels') \n",
    "ax.set_title('Confusion Matrix3 - LOL Winner') \n",
    "ax.xaxis.set_ticklabels(['Negative=0', 'Positive=1'])\n",
    "ax.yaxis.set_ticklabels(['Negative=0', 'Positive=1']);\n",
    "plt.show();"
   ]
  },
  {
   "cell_type": "markdown",
   "id": "792c332f",
   "metadata": {},
   "source": [
    "<h2 style=\"font-family: Arial; font-size:10;color:black;\">Modelo 4</h2> "
   ]
  },
  {
   "cell_type": "code",
   "execution_count": 59,
   "id": "a1ba33a3",
   "metadata": {},
   "outputs": [
    {
     "data": {
      "text/plain": [
       "array([[5014,  104],\n",
       "       [  86, 4854]])"
      ]
     },
     "execution_count": 59,
     "metadata": {},
     "output_type": "execute_result"
    }
   ],
   "source": [
    "from sklearn.metrics import confusion_matrix\n",
    "\n",
    "confusion_matrix4 = confusion_matrix(y_test, y_pred4)\n",
    "confusion_matrix4"
   ]
  },
  {
   "cell_type": "code",
   "execution_count": 60,
   "id": "0790fda8",
   "metadata": {},
   "outputs": [
    {
     "data": {
      "image/png": "[encoded data removed]",
      "text/plain": [
       "<Figure size 432x288 with 2 Axes>"
      ]
     },
     "metadata": {
      "needs_background": "light"
     },
     "output_type": "display_data"
    }
   ],
   "source": [
    "%matplotlib inline\n",
    "import matplotlib.pyplot as plt\n",
    "import seaborn as sns\n",
    "\n",
    "ax = plt.subplot()\n",
    "sns.heatmap(confusion_matrix4, annot=True, ax = ax, fmt='d')\n",
    "\n",
    "ax.set_xlabel('Predicted labels')\n",
    "ax.set_ylabel('Actual labels') \n",
    "ax.set_title('Confusion Matrix4 - LOL Winner') \n",
    "ax.xaxis.set_ticklabels(['Negative=0', 'Positive=1'])\n",
    "ax.yaxis.set_ticklabels(['Negative=0', 'Positive=1']);\n",
    "plt.show();"
   ]
  },
  {
   "cell_type": "markdown",
   "id": "da5213fa",
   "metadata": {},
   "source": [
    "<h2 style=\"font-family: Arial; font-size:10;color:black;\">Modelo 5</h2> "
   ]
  },
  {
   "cell_type": "code",
   "execution_count": 61,
   "id": "e7e7f851",
   "metadata": {},
   "outputs": [
    {
     "data": {
      "text/plain": [
       "array([[4988,  130],\n",
       "       [ 103, 4837]])"
      ]
     },
     "execution_count": 61,
     "metadata": {},
     "output_type": "execute_result"
    }
   ],
   "source": [
    "from sklearn.metrics import confusion_matrix\n",
    "\n",
    "confusion_matrix5 = confusion_matrix(y_test, y_pred5)\n",
    "confusion_matrix5"
   ]
  },
  {
   "cell_type": "code",
   "execution_count": 62,
   "id": "54d8a6fb",
   "metadata": {},
   "outputs": [
    {
     "data": {
      "image/png": "[encoded data removed]",
      "text/plain": [
       "<Figure size 432x288 with 2 Axes>"
      ]
     },
     "metadata": {
      "needs_background": "light"
     },
     "output_type": "display_data"
    }
   ],
   "source": [
    "%matplotlib inline\n",
    "import matplotlib.pyplot as plt\n",
    "import seaborn as sns\n",
    "\n",
    "ax = plt.subplot()\n",
    "sns.heatmap(confusion_matrix5, annot=True, ax = ax, fmt='d')\n",
    "\n",
    "ax.set_xlabel('Predicted labels')\n",
    "ax.set_ylabel('Actual labels') \n",
    "ax.set_title('Confusion Matrix5 - LOL Winner') \n",
    "ax.xaxis.set_ticklabels(['Negative=0', 'Positive=1'])\n",
    "ax.yaxis.set_ticklabels(['Negative=0', 'Positive=1']);\n",
    "plt.show();"
   ]
  },
  {
   "cell_type": "markdown",
   "id": "fd4436cb",
   "metadata": {},
   "source": [
    "<h1 style=\"font-family: Arial; font-size:10;color:red;\">Modelo adicional</h1> "
   ]
  },
  {
   "cell_type": "code",
   "execution_count": 68,
   "id": "1f9f64a4",
   "metadata": {},
   "outputs": [
    {
     "name": "stdout",
     "output_type": "stream",
     "text": [
      "[0.96358439 0.95550584 0.951653   0.96532007 0.95463021]\n"
     ]
    },
    {
     "data": {
      "text/plain": [
       "0.9581387012249485"
      ]
     },
     "execution_count": 68,
     "metadata": {},
     "output_type": "execute_result"
    }
   ],
   "source": [
    "from sklearn.neural_network import MLPClassifier\n",
    "from sklearn.model_selection import cross_val_score\n",
    "\n",
    "modeloAdd1 = MLPClassifier(learning_rate_init = 1,activation='tanh',solver='adam', alpha=1e-5,hidden_layer_sizes=(18), random_state=123)\n",
    "modeloAdd1.fit(X_train, y_train)\n",
    "scoresAdd1 = cross_val_score(modeloAdd1, X_train, y_train, cv=5, scoring='accuracy')\n",
    "print(scoresAdd1)\n",
    "scoresAdd1.mean()"
   ]
  },
  {
   "cell_type": "code",
   "execution_count": 74,
   "id": "afba5131",
   "metadata": {},
   "outputs": [
    {
     "name": "stdout",
     "output_type": "stream",
     "text": [
      "[0.97986577 0.97912006 0.98110863 0.97924177 0.98284649]\n"
     ]
    },
    {
     "data": {
      "text/plain": [
       "0.9804365420893257"
      ]
     },
     "execution_count": 74,
     "metadata": {},
     "output_type": "execute_result"
    }
   ],
   "source": [
    "from sklearn.neural_network import MLPClassifier\n",
    "from sklearn.model_selection import cross_val_score\n",
    "\n",
    "modeloAdd2 = MLPClassifier(learning_rate_init = 0.001,activation='tanh',solver='adam', alpha=1e-5,hidden_layer_sizes=(18), random_state=123)\n",
    "modeloAdd2.fit(X_train, y_train)\n",
    "scoresAdd2 = cross_val_score(modeloAdd2, X_train, y_train, cv=5, scoring='accuracy')\n",
    "print(scoresAdd2)\n",
    "scoresAdd2.mean()"
   ]
  },
  {
   "cell_type": "code",
   "execution_count": 70,
   "id": "adbc364f",
   "metadata": {},
   "outputs": [
    {
     "data": {
      "text/plain": [
       "array([2, 2, 1, ..., 1, 1, 1])"
      ]
     },
     "execution_count": 70,
     "metadata": {},
     "output_type": "execute_result"
    }
   ],
   "source": [
    "y_predAdd1 = modeloAdd1.predict(X_test)\n",
    "y_predAdd1"
   ]
  },
  {
   "cell_type": "code",
   "execution_count": 75,
   "id": "4609608d",
   "metadata": {},
   "outputs": [
    {
     "data": {
      "text/plain": [
       "array([2, 2, 1, ..., 1, 1, 1])"
      ]
     },
     "execution_count": 75,
     "metadata": {},
     "output_type": "execute_result"
    }
   ],
   "source": [
    "y_predAdd2 = modeloAdd2.predict(X_test)\n",
    "y_predAdd2"
   ]
  },
  {
   "cell_type": "code",
   "execution_count": 72,
   "id": "1bf807a2",
   "metadata": {},
   "outputs": [
    {
     "name": "stdout",
     "output_type": "stream",
     "text": [
      "0.9625173990853052\n"
     ]
    }
   ],
   "source": [
    "from sklearn.metrics import accuracy_score\n",
    "accuracyAdd1 = accuracy_score(y_test, y_predAdd1)\n",
    "print(accuracyAdd1)"
   ]
  },
  {
   "cell_type": "code",
   "execution_count": 76,
   "id": "102a324c",
   "metadata": {},
   "outputs": [
    {
     "name": "stdout",
     "output_type": "stream",
     "text": [
      "0.9811095645257506\n"
     ]
    }
   ],
   "source": [
    "from sklearn.metrics import accuracy_score\n",
    "accuracyAdd2 = accuracy_score(y_test, y_predAdd2)\n",
    "print(accuracyAdd2)"
   ]
  },
  {
   "cell_type": "markdown",
   "id": "81f7e8b1",
   "metadata": {},
   "source": [
    "<p style=\"font-family: Arial; font-size:10;color:black;\">El hiperparámetro learning_rate_init controla el valor inicial de la tasa de aprendizaje, en caso de ser un valor constante como en este caso, maneja este valor como tasa de aprendizaje durante todo el proceso de entrenamiento.</p> \n",
    "<p style=\"font-family: Arial; font-size:10;color:black;\">Podemos observar que un valor de 0.001 en comparación con un valor de 1 en la tasa de aprendizaje representa un valor de accuracy más óptimo dado que aunque toma mas tiempo permite un entrenamiento mas estable cada vez que se modifican los pesos del modelo. Las tasas de aprendizaje que son demasiado altas pueden resultar en procesos de entrenamiento inestables o en el aprendizaje de un conjunto de pesos subóptimo.\n",
    "\n",
    "Observamos de igual forma que un valor de 0.001 en la tasa de aprendizaje mantiene el mismo valor de Accuracy previamente obtenido cuando no se había incluido este hiperparámetro (Tabla 1. Modelo 4) </p>"
   ]
  }
 ],
 "metadata": {
  "kernelspec": {
   "display_name": "Python 3 (ipykernel)",
   "language": "python",
   "name": "python3"
  },
  "language_info": {
   "codemirror_mode": {
    "name": "ipython",
    "version": 3
   },
   "file_extension": ".py",
   "mimetype": "text/x-python",
   "name": "python",
   "nbconvert_exporter": "python",
   "pygments_lexer": "ipython3",
   "version": "3.9.12"
  }
 },
 "nbformat": 4,
 "nbformat_minor": 5
}
